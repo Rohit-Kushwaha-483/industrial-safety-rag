{
 "cells": [
  {
   "cell_type": "code",
   "execution_count": 9,
   "id": "e63ad067",
   "metadata": {},
   "outputs": [],
   "source": [
    "from langchain.document_loaders import PyPDFLoader, DirectoryLoader\n",
    "from langchain.text_splitter import RecursiveCharacterTextSplitter"
   ]
  },
  {
   "cell_type": "code",
   "execution_count": 10,
   "id": "f62d415b",
   "metadata": {},
   "outputs": [],
   "source": [
    "# Extract text from the Pdf file\n",
    "def load_pdf_files(pdf_path):\n",
    "    loader = DirectoryLoader(pdf_path, glob=\"*.pdf\", loader_cls=PyPDFLoader)\n",
    "    documents = loader.load()\n",
    "    # documents = loader.lazy_load()\n",
    "    return documents"
   ]
  },
  {
   "cell_type": "code",
   "execution_count": 11,
   "id": "37f71729",
   "metadata": {},
   "outputs": [],
   "source": [
    "from langchain_community.document_loaders import DirectoryLoader, PyPDFLoader\n",
    "\n",
    "def load_pdf_files(pdf_path: str, \n",
    "                   glob_pattern: str = \"**/*.pdf\",\n",
    "                   loader_kwargs: dict = None,\n",
    "                   show_progress: bool = False,\n",
    "                   silent_errors: bool = False) -> list:\n",
    "    \n",
    "    if loader_kwargs is None:\n",
    "        loader_kwargs = {}\n",
    "\n",
    "    # Use DirectoryLoader to scan the directory and use PyPDFLoader for each PDF\n",
    "    loader = DirectoryLoader(\n",
    "        pdf_path,\n",
    "        glob=glob_pattern,\n",
    "        loader_cls=lambda path: PyPDFLoader(path, **loader_kwargs),\n",
    "        show_progress=show_progress,\n",
    "        silent_errors=silent_errors\n",
    "    )\n",
    "    documents = loader.load()\n",
    "    return documents"
   ]
  },
  {
   "cell_type": "code",
   "execution_count": 12,
   "id": "2d168d1e",
   "metadata": {},
   "outputs": [],
   "source": [
    "extracted_data = load_pdf_files(\"./industrial-safety-pdfs\")"
   ]
  },
  {
   "cell_type": "code",
   "execution_count": 13,
   "id": "d6f7cfd0",
   "metadata": {},
   "outputs": [
    {
     "data": {
      "text/plain": [
       "337"
      ]
     },
     "execution_count": 13,
     "metadata": {},
     "output_type": "execute_result"
    }
   ],
   "source": [
    "len(extracted_data)"
   ]
  },
  {
   "cell_type": "code",
   "execution_count": 14,
   "id": "ca0375b3",
   "metadata": {},
   "outputs": [
    {
     "data": {
      "text/plain": [
       "'(53) The harmonised standards relevant to this Regulation should take into account the requirements of Directive (EU) \\n2019/882 of the European Parliament and of the Council (  16 ) and the United Nations Convention on the Rights \\nof Persons with Disabilities (  17 ). \\n(54) The list of products in Annex IV of Directive 2006/42/EC has until now been based on the risk emanating from \\nthe intended use or any reasonably foreseeable misuse of those products or their critical protective function. \\nNevertheless, the machinery field embraces new ways of designing and constructing machinery or related \\nproducts that might present higher risk factors, regardless of such intended use or any reasonably foreseeable \\nmisuse. For example, systems with self-evolving behaviour ensuring safety functions should be included in \\nAnnex I due to their characteristics such as data dependency, opacity, autonomy and connectivity, which \\nmight considerably increase the probability and severity of harm and seriously affect the safety of the \\nmachinery or related product. Therefore, the conformity assessment of a safety component or a system with \\nself-evolving behaviour ensuring safety functions should be carried out by a third party, whether or not the safety \\ncomponent has been placed independently on the market or is part of a system embedded in machinery that is \\nplaced on the market. However, where machinery embeds a system of which the safety component has already \\nbeen subject to third party conformity assessment when it was placed independently on the market, that \\nmachinery should not have to be re-certified by a third party solely on the basis of the embedding of that system.  \\n(55) Provisions related to the third-party conformity assessment of software ensuring safety functions set out in this \\nRegulation should only apply to systems with a fully or partially self-evolving behaviour using machine learning \\napproaches ensuring safety functions. On the contrary, those provisions should not apply to software incapable \\nof learning or evolving, and programmed only to execute certain automated functions of machinery or related \\nproducts. \\n(56) The CE marking, indicating the conformity of a product, is the visible consequence of a whole process \\ncomprising conformity assessment in a broad sense. The general principles governing the CE marking are set \\nout in Regulation (EC) No 765/2008. Rules governing the affixing of the CE marking on machinery or related \\nproducts should be laid down in this Regulation.  \\n(57) The CE marking should be the only marking which guarantees that machinery or related products comply with \\nthe requirements of this Regulation. Member States should therefore take appropriate action as regards other \\nmarkings which are likely to mislead third parties as to the meaning or the form of the CE marking.  \\n(58) In order to enable economic operators to demonstrate and the competent authorities to ensure that machinery or \\nrelated products made available on the market are in conformity with the essential health and safety require \\xad\\nments, it is necessary to provide for conformity assessment procedures. Decision No 768/2008/EC establishes \\nmodules for conformity assessment procedures, which include procedures from the least to the most stringent, in \\nproportion to the level of risk involved and the level of safety required. In order to ensure inter-sectoral \\ncoherence and to avoid ad hoc variants, conformity assessment procedures should be chosen from among \\nthose modules.  \\n(59) Manufacturers should be responsible for ensuring that a conformity assessment is carried out in respect of their \\nmachinery or related products in accordance with this Regulation. Nevertheless, for certain categories of \\nmachinery or related products that have a higher risk factor, a stricter conformity assessment procedure \\nrequiring the participation of a notified body should be required.  \\n(60) It is essential that all notified bodies perform their functions to the same level and under conditions of fair \\ncompetition. That requires the setting of obligatory requirements for conformity assessment bodies wishing to be \\nnotified in order to provide conformity assessment services.  \\n(61) If a conformity assessment body demonstrates conformity with the criteria laid down in harmonised standards, it \\nshould be presumed to comply with the corresponding requirements set out in this Regulation.\\nEN L 165/8 Official Journal of the European Union 29.6.2023  \\n( 16 ) Directive (EU) 2019/882 of the European Parliament and of the Council of 17 April 2019 on the accessibility requirements for \\nproducts and services (OJ L 151, 7.6.2019, p. 70).  \\n( 17 ) OJ L 23, 27.1.2010, p. 35.'"
      ]
     },
     "execution_count": 14,
     "metadata": {},
     "output_type": "execute_result"
    }
   ],
   "source": [
    "extracted_data[56].page_content"
   ]
  },
  {
   "cell_type": "code",
   "execution_count": 15,
   "id": "99653ca5",
   "metadata": {},
   "outputs": [],
   "source": [
    "from typing import List\n",
    "from langchain.schema import Document\n",
    "\n",
    "def filter_to_minimal_docs(docs: List[Document]) -> List[Document]:\n",
    "    ''' Given a list of Document objects, return a new list of document objects \n",
    "    containing only 'source' in the metadata and the original page_content'''\n",
    "    \n",
    "    minimal_docs: List[Document] = []\n",
    "    \n",
    "    for doc in docs:\n",
    "        src = doc.metadata.get(\"source\")\n",
    "        minimal_docs.append(\n",
    "            Document(\n",
    "                page_content=doc.page_content,\n",
    "                metadata={\"source\": src}\n",
    "            )\n",
    "        )\n",
    "    return minimal_docs"
   ]
  },
  {
   "cell_type": "code",
   "execution_count": 16,
   "id": "42d41da4",
   "metadata": {},
   "outputs": [],
   "source": [
    "minimal_docs = filter_to_minimal_docs(extracted_data)"
   ]
  },
  {
   "cell_type": "code",
   "execution_count": 17,
   "id": "e0508a9a",
   "metadata": {},
   "outputs": [],
   "source": [
    "# Split the text into chunks\n",
    "def text_split(minimal_docs):\n",
    "    text_splitter = RecursiveCharacterTextSplitter(chunk_size=500, chunk_overlap=20)\n",
    "    texts_chunk = text_splitter.split_documents(minimal_docs)\n",
    "    return texts_chunk"
   ]
  },
  {
   "cell_type": "code",
   "execution_count": 18,
   "id": "7279c681",
   "metadata": {},
   "outputs": [
    {
     "data": {
      "text/plain": [
       "1809"
      ]
     },
     "execution_count": 18,
     "metadata": {},
     "output_type": "execute_result"
    }
   ],
   "source": [
    "texts_chunk = text_split(minimal_docs)\n",
    "len(texts_chunk)"
   ]
  },
  {
   "cell_type": "code",
   "execution_count": 19,
   "id": "ae79bff8",
   "metadata": {},
   "outputs": [],
   "source": [
    "# generate the vector embeddings using HuggingFaceEmbeddings\n",
    "from langchain_huggingface import HuggingFaceEmbeddings\n",
    "\n",
    "def download_embeddings():\n",
    "    embeddings = HuggingFaceEmbeddings(\n",
    "        model_name='sentence-transformers/all-MiniLM-L6-v2',\n",
    "        model_kwargs={'device': 'cpu'}\n",
    "    )\n",
    "    return embeddings\n",
    "\n",
    "embeddings = download_embeddings()"
   ]
  },
  {
   "cell_type": "code",
   "execution_count": 20,
   "id": "37a7e97f",
   "metadata": {},
   "outputs": [
    {
     "data": {
      "text/plain": [
       "HuggingFaceEmbeddings(model_name='sentence-transformers/all-MiniLM-L6-v2', cache_folder=None, model_kwargs={'device': 'cpu'}, encode_kwargs={}, query_encode_kwargs={}, multi_process=False, show_progress=False)"
      ]
     },
     "execution_count": 20,
     "metadata": {},
     "output_type": "execute_result"
    }
   ],
   "source": [
    "embeddings"
   ]
  },
  {
   "cell_type": "code",
   "execution_count": null,
   "id": "77427138",
   "metadata": {},
   "outputs": [],
   "source": [
    "vector = embeddings.embed_query(\"What's our Q1 revenue?\")\n",
    "vector"
   ]
  },
  {
   "cell_type": "code",
   "execution_count": 22,
   "id": "2150cd2b",
   "metadata": {},
   "outputs": [
    {
     "name": "stdout",
     "output_type": "stream",
     "text": [
      "384\n"
     ]
    }
   ],
   "source": [
    "print(len(vector))"
   ]
  },
  {
   "cell_type": "code",
   "execution_count": null,
   "id": "1595a6ea",
   "metadata": {},
   "outputs": [],
   "source": [
    "from langchain_chroma import Chroma\n",
    "\n",
    "vector_store = Chroma(\n",
    "    collection_name=\"rag-collection\",\n",
    "    embedding_function=embeddings,  \n",
    "    persist_directory=\"./chroma_db\"\n",
    ")\n",
    "\n",
    "# Add Documents\n",
    "vector_store.add_documents(documents=texts_chunk)"
   ]
  },
  {
   "cell_type": "code",
   "execution_count": 24,
   "id": "c72d12ac",
   "metadata": {},
   "outputs": [],
   "source": [
    "# Create the retriever\n",
    "# Base retriever (before reranking)\n",
    "\n",
    "retriever = vector_store.as_retriever(search_type=\"similarity\", search_kwargs={\"k\": 5})"
   ]
  },
  {
   "cell_type": "code",
   "execution_count": 25,
   "id": "e059c7bf",
   "metadata": {},
   "outputs": [],
   "source": [
    "# retrieved_docs = retriever.invoke(\"What are RIA ?\")\n",
    "retrieved_docs = retriever.invoke(\"When did ANSI/RIA R15.06 published ?\")"
   ]
  },
  {
   "cell_type": "code",
   "execution_count": 26,
   "id": "623beed7",
   "metadata": {},
   "outputs": [
    {
     "data": {
      "text/plain": [
       "[Document(id='665b1be8-b4f6-46b1-8aee-7d7d863d670f', metadata={'source': 'industrial-safety-pdfs\\\\12-Franklin--RIA-IEEE_2019-05-19_v2.pdf'}, page_content='ANSI/RIA R15.06-2012: Table of Contents'),\n",
       " Document(id='2117b2e9-1516-4ce1-ae55-065b33ac7949', metadata={'source': 'industrial-safety-pdfs\\\\12-Franklin--RIA-IEEE_2019-05-19_v2.pdf'}, page_content='ANSI/RIA R15.06-2012: Table of Contents'),\n",
       " Document(id='0f2710fb-ab98-4d43-9a11-c3af33acdd8a', metadata={'source': 'industrial-safety-pdfs\\\\12-Franklin--RIA-IEEE_2019-05-19_v2.pdf'}, page_content='About RIA’s Robot Standards:  History\\nYear Standard Document\\n1986 ANSI/RIA R15.06-1986\\n1992 ANSI/RIA R15.06-1992\\n1999 ANSI/RIA R15.06-1999\\n~2000 ISO 10218 begun, based on R15.06-1999\\n2006 ISO 10218-1:2006\\n2007 ANSI/RIA ISO 10218-1:2017 & RIA TR to enable its use\\n2011 ISO 10218-1,2:2011\\n2012 ANSI/RIA R15.06-2012 (U.S. national adoption of 10218-1,2:2011)\\n2014 RIA TRs 306, 406, 506\\n2016 ISO/TS15066:2016; RIA TR R15.606-2016 (U.S. national adoption). TR 306 update.\\n2017 ISO/TR 20218-2:2017'),\n",
       " Document(id='61d11193-dfb0-4843-b2c9-0effe85529a2', metadata={'source': 'industrial-safety-pdfs\\\\12-Franklin--RIA-IEEE_2019-05-19_v2.pdf'}, page_content='About RIA’s Robot Standards:  History\\nYear Standard Document\\n1986 ANSI/RIA R15.06-1986\\n1992 ANSI/RIA R15.06-1992\\n1999 ANSI/RIA R15.06-1999\\n~2000 ISO 10218 begun, based on R15.06-1999\\n2006 ISO 10218-1:2006\\n2007 ANSI/RIA ISO 10218-1:2017 & RIA TR to enable its use\\n2011 ISO 10218-1,2:2011\\n2012 ANSI/RIA R15.06-2012 (U.S. national adoption of 10218-1,2:2011)\\n2014 RIA TRs 306, 406, 506\\n2016 ISO/TS15066:2016; RIA TR R15.606-2016 (U.S. national adoption). TR 306 update.\\n2017 ISO/TR 20218-2:2017'),\n",
       " Document(id='cc63c549-5673-41d2-9fb5-d756566061cf', metadata={'source': 'industrial-safety-pdfs\\\\12-Franklin--RIA-IEEE_2019-05-19_v2.pdf'}, page_content='2018 ISO/TR 20218-1:2018. RIA TR R15.806-2018.')]"
      ]
     },
     "execution_count": 26,
     "metadata": {},
     "output_type": "execute_result"
    }
   ],
   "source": [
    "retrieved_docs"
   ]
  },
  {
   "cell_type": "markdown",
   "id": "fb330fbe",
   "metadata": {},
   "source": [
    "## Cohere reranking"
   ]
  },
  {
   "cell_type": "code",
   "execution_count": 27,
   "id": "dc21dca3",
   "metadata": {},
   "outputs": [],
   "source": [
    "from dotenv import load_dotenv\n",
    "import os\n",
    "load_dotenv()\n",
    "\n",
    "cohere_api_key = os.getenv(\"COHERE_API_KEY\")\n",
    "if cohere_api_key is None:\n",
    "    raise ValueError(\"COHERE_API_KEY is not set in environment\")"
   ]
  },
  {
   "cell_type": "code",
   "execution_count": 28,
   "id": "d4b58aaf",
   "metadata": {},
   "outputs": [],
   "source": [
    "from langchain.retrievers.contextual_compression import ContextualCompressionRetriever\n",
    "from langchain_cohere.rerank import CohereRerank\n",
    "\n",
    "# --- New: Set up the reranker / compression layer ---\n",
    "\n",
    "# Initialize the Cohere reranker (you must specify model)\n",
    "compressor = CohereRerank(model=\"rerank-english-v3.0\", cohere_api_key=cohere_api_key)  # adjust model name as per your API\n",
    "\n",
    "# Wrap your base retriever with contextual compression / reranking\n",
    "compression_retriever = ContextualCompressionRetriever(\n",
    "    base_retriever=retriever,\n",
    "    base_compressor=compressor\n",
    ")\n",
    "\n",
    "# Now compression_retriever.invoke(query) will:\n",
    "#   1. fetch top-k docs via base_retriever\n",
    "#   2. rerank them via CohereRerank\n",
    "#   3. return compressed / reranked set of docs"
   ]
  },
  {
   "cell_type": "markdown",
   "id": "d2605544",
   "metadata": {},
   "source": [
    "## GOOGLE MODEL"
   ]
  },
  {
   "cell_type": "code",
   "execution_count": 29,
   "id": "4b93ed39",
   "metadata": {},
   "outputs": [],
   "source": [
    "from langchain_google_genai import ChatGoogleGenerativeAI\n",
    "from dotenv import load_dotenv\n",
    "import os\n",
    "\n",
    "load_dotenv()  # this loads the .env file\n",
    "\n",
    "api_key = os.getenv(\"GOOGLE_API_KEY\")\n",
    "if api_key is None:\n",
    "    raise ValueError(\"GOOGLE_API_KEY not set in environment\")\n",
    "\n",
    "# Create the model instance\n",
    "llm = ChatGoogleGenerativeAI(\n",
    "    model=\"gemini-2.5-flash\", \n",
    "    temperature=0.0,\n",
    "    max_tokens=None,\n",
    "    timeout=None,\n",
    "    max_retries=2,\n",
    ")"
   ]
  },
  {
   "cell_type": "markdown",
   "id": "f8f98238",
   "metadata": {},
   "source": [
    "## RAG Chain with LCEL"
   ]
  },
  {
   "cell_type": "code",
   "execution_count": 30,
   "id": "7d8c8c5a",
   "metadata": {},
   "outputs": [],
   "source": [
    "from langchain_core.output_parsers import StrOutputParser\n",
    "from langchain_core.runnables import RunnablePassthrough, RunnableParallel, RunnableLambda\n",
    "from langchain_core.prompts import ChatPromptTemplate\n",
    "\n",
    "\n",
    "# Alternative: Custom prompt template\n",
    "prompt = ChatPromptTemplate.from_messages([\n",
    "    (\"system\", \"\"\"You are an assistant for question-answering tasks. \n",
    "    Use the following pieces of retrieved context to answer the question. \n",
    "    If you don't know the answer, just say that you don't know. \n",
    "    Use three sentences maximum and keep the answer concise.\n",
    "    \n",
    "    Context: {context}\"\"\"),\n",
    "    (\"human\", \"{question}\")\n",
    "])\n",
    "\n",
    "def format_docs(docs):\n",
    "    \"\"\"Format retrieved documents for the prompt\"\"\"\n",
    "    return \"\\n\\n\".join(doc.page_content for doc in docs)"
   ]
  },
  {
   "cell_type": "code",
   "execution_count": 31,
   "id": "e1dc203a",
   "metadata": {},
   "outputs": [],
   "source": [
    "parallel_chain = RunnableParallel({\n",
    "    'context': compression_retriever | RunnableLambda(format_docs),\n",
    "    'question': RunnablePassthrough()\n",
    "})\n",
    "\n",
    "# Build RAG chain using LCEL\n",
    "rag_chain = parallel_chain | prompt| llm | StrOutputParser()"
   ]
  },
  {
   "cell_type": "code",
   "execution_count": 32,
   "id": "6bcfce91",
   "metadata": {},
   "outputs": [
    {
     "data": {
      "text/plain": [
       "{'context': 'About RIA’s Robot Standards:  History\\nYear Standard Document\\n1986 ANSI/RIA R15.06-1986\\n1992 ANSI/RIA R15.06-1992\\n1999 ANSI/RIA R15.06-1999\\n~2000 ISO 10218 begun, based on R15.06-1999\\n2006 ISO 10218-1:2006\\n2007 ANSI/RIA ISO 10218-1:2017 & RIA TR to enable its use\\n2011 ISO 10218-1,2:2011\\n2012 ANSI/RIA R15.06-2012 (U.S. national adoption of 10218-1,2:2011)\\n2014 RIA TRs 306, 406, 506\\n2016 ISO/TS15066:2016; RIA TR R15.606-2016 (U.S. national adoption). TR 306 update.\\n2017 ISO/TR 20218-2:2017\\n\\nAbout RIA’s Robot Standards:  History\\nYear Standard Document\\n1986 ANSI/RIA R15.06-1986\\n1992 ANSI/RIA R15.06-1992\\n1999 ANSI/RIA R15.06-1999\\n~2000 ISO 10218 begun, based on R15.06-1999\\n2006 ISO 10218-1:2006\\n2007 ANSI/RIA ISO 10218-1:2017 & RIA TR to enable its use\\n2011 ISO 10218-1,2:2011\\n2012 ANSI/RIA R15.06-2012 (U.S. national adoption of 10218-1,2:2011)\\n2014 RIA TRs 306, 406, 506\\n2016 ISO/TS15066:2016; RIA TR R15.606-2016 (U.S. national adoption). TR 306 update.\\n2017 ISO/TR 20218-2:2017\\n\\nANSI/RIA R15.06-2012: Table of Contents',\n",
       " 'question': 'When did ANSI/RIA R15.06 published'}"
      ]
     },
     "execution_count": 32,
     "metadata": {},
     "output_type": "execute_result"
    }
   ],
   "source": [
    "parallel_chain.invoke('When did ANSI/RIA R15.06 published')"
   ]
  },
  {
   "cell_type": "code",
   "execution_count": 33,
   "id": "1885ead1",
   "metadata": {},
   "outputs": [
    {
     "name": "stdout",
     "output_type": "stream",
     "text": [
      "The ANSI/RIA R15.06 standard has been published multiple times. It was first published in 1986 as ANSI/RIA R15.06-1986. Subsequent versions were released in 1992, 1999, and 2012.\n"
     ]
    }
   ],
   "source": [
    "# Test the chain\n",
    "response = rag_chain.invoke(\"When did ANSI/RIA R15.06 published ?\")\n",
    "print(response)"
   ]
  },
  {
   "cell_type": "code",
   "execution_count": null,
   "id": "13d1c4fb",
   "metadata": {},
   "outputs": [],
   "source": []
  }
 ],
 "metadata": {
  "kernelspec": {
   "display_name": "venv",
   "language": "python",
   "name": "python3"
  },
  "language_info": {
   "codemirror_mode": {
    "name": "ipython",
    "version": 3
   },
   "file_extension": ".py",
   "mimetype": "text/x-python",
   "name": "python",
   "nbconvert_exporter": "python",
   "pygments_lexer": "ipython3",
   "version": "3.10.0"
  }
 },
 "nbformat": 4,
 "nbformat_minor": 5
}
